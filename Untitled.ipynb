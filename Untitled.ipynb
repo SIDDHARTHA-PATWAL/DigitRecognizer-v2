{
 "cells": [
  {
   "cell_type": "code",
   "execution_count": 12,
   "id": "4c9ae206-2225-4026-a8de-62d8be716d9a",
   "metadata": {},
   "outputs": [
    {
     "name": "stdout",
     "output_type": "stream",
     "text": [
      "2.15.0\n"
     ]
    }
   ],
   "source": [
    "import tensorflow as tf\n",
    "import matplotlib.pyplot as plt\n",
    "import numpy\n",
    "from tensorflow.keras import Sequential\n",
    "from tensorflow.keras.layers import Dense\n",
    "print(tf.__version__)"
   ]
  },
  {
   "cell_type": "code",
   "execution_count": 13,
   "id": "e44bce6a-5646-403d-91e5-6276375d91ee",
   "metadata": {},
   "outputs": [
    {
     "name": "stdout",
     "output_type": "stream",
     "text": [
      "<module 'keras.api._v2.keras.datasets.mnist' from 'C:\\\\Users\\\\siddh\\\\AppData\\\\Local\\\\Programs\\\\Python\\\\Python311\\\\Lib\\\\site-packages\\\\keras\\\\api\\\\_v2\\\\keras\\\\datasets\\\\mnist\\\\__init__.py'>\n"
     ]
    }
   ],
   "source": [
    "minist = tf.keras.datasets.mnist\n",
    "print(minist)\n",
    "(x_train,y_train),(x_test,y_test)=minist.load_data()\n",
    "x_train=x_train.reshape(60000,784)\n",
    "y_train=y_train.reshape(60000,)\n",
    "x_test.shape\n",
    "x_test=x_test.reshape(10000,784)\n",
    "y_test=y_test.reshape(10000,)\n",
    "# x_train[0]"
   ]
  },
  {
   "cell_type": "code",
   "execution_count": 14,
   "id": "c5a0fb46-3dae-4dbd-b60f-e7afcf38167c",
   "metadata": {},
   "outputs": [
    {
     "name": "stdout",
     "output_type": "stream",
     "text": [
      "[[0 0 0 ... 0 0 0]\n",
      " [0 0 0 ... 0 0 0]\n",
      " [0 0 0 ... 0 0 0]\n",
      " ...\n",
      " [0 0 0 ... 0 0 0]\n",
      " [0 0 0 ... 0 0 0]\n",
      " [0 0 0 ... 0 0 0]]\n"
     ]
    },
    {
     "data": {
      "text/plain": [
       "(60000, 784)"
      ]
     },
     "execution_count": 14,
     "metadata": {},
     "output_type": "execute_result"
    }
   ],
   "source": [
    "print(x_train)\n",
    "x_train.shape"
   ]
  },
  {
   "cell_type": "code",
   "execution_count": 15,
   "id": "2c6821ad-b567-4e66-ae2b-c132405d4751",
   "metadata": {
    "scrolled": true
   },
   "outputs": [
    {
     "name": "stdout",
     "output_type": "stream",
     "text": [
      "Epoch 1/20\n",
      "1875/1875 [==============================] - 10s 5ms/step - loss: 1.9244 - accuracy: 0.3496\n",
      "Epoch 2/20\n",
      "1875/1875 [==============================] - 10s 5ms/step - loss: 1.2433 - accuracy: 0.4838\n",
      "Epoch 3/20\n",
      "1875/1875 [==============================] - 9s 5ms/step - loss: 0.7942 - accuracy: 0.7261\n",
      "Epoch 4/20\n",
      "1875/1875 [==============================] - 9s 5ms/step - loss: 0.3692 - accuracy: 0.9110\n",
      "Epoch 5/20\n",
      "1875/1875 [==============================] - 9s 5ms/step - loss: 0.2137 - accuracy: 0.9465\n",
      "Epoch 6/20\n",
      "1875/1875 [==============================] - 10s 5ms/step - loss: 0.1649 - accuracy: 0.9574\n",
      "Epoch 7/20\n",
      "1875/1875 [==============================] - 10s 5ms/step - loss: 0.1399 - accuracy: 0.9639\n",
      "Epoch 8/20\n",
      "1875/1875 [==============================] - 10s 5ms/step - loss: 0.1240 - accuracy: 0.9677\n",
      "Epoch 9/20\n",
      "1875/1875 [==============================] - 9s 5ms/step - loss: 0.1075 - accuracy: 0.9724\n",
      "Epoch 10/20\n",
      "1875/1875 [==============================] - 10s 5ms/step - loss: 0.0972 - accuracy: 0.9741\n",
      "Epoch 11/20\n",
      "1875/1875 [==============================] - 8s 4ms/step - loss: 0.0872 - accuracy: 0.9768\n",
      "Epoch 12/20\n",
      "1875/1875 [==============================] - 8s 4ms/step - loss: 0.0866 - accuracy: 0.9770\n",
      "Epoch 13/20\n",
      "1875/1875 [==============================] - 9s 5ms/step - loss: 0.0737 - accuracy: 0.9807\n",
      "Epoch 14/20\n",
      "1875/1875 [==============================] - 8s 5ms/step - loss: 0.0704 - accuracy: 0.9812\n",
      "Epoch 15/20\n",
      "1875/1875 [==============================] - 8s 4ms/step - loss: 0.0683 - accuracy: 0.9822\n",
      "Epoch 16/20\n",
      "1875/1875 [==============================] - 8s 4ms/step - loss: 0.0739 - accuracy: 0.9821\n",
      "Epoch 17/20\n",
      "1875/1875 [==============================] - 8s 4ms/step - loss: 0.0658 - accuracy: 0.9830\n",
      "Epoch 18/20\n",
      "1875/1875 [==============================] - 8s 4ms/step - loss: 0.0585 - accuracy: 0.9849\n",
      "Epoch 19/20\n",
      "1875/1875 [==============================] - 8s 4ms/step - loss: 0.0608 - accuracy: 0.9844\n",
      "Epoch 20/20\n",
      "1875/1875 [==============================] - 8s 4ms/step - loss: 0.0552 - accuracy: 0.9858\n"
     ]
    },
    {
     "data": {
      "text/plain": [
       "<keras.src.callbacks.History at 0x27aa0acebd0>"
      ]
     },
     "execution_count": 15,
     "metadata": {},
     "output_type": "execute_result"
    }
   ],
   "source": [
    "model=Sequential([\n",
    "    Dense(units=125,activation='relu'),\n",
    "    Dense(units=25,activation='relu'),\n",
    "    Dense(units=10,activation='linear')\n",
    "])\n",
    "model.compile(\n",
    "    loss=tf.keras.losses.SparseCategoricalCrossentropy(from_logits=True),\n",
    "    optimizer = tf.keras.optimizers.Adam(learning_rate=0.001),\n",
    "     metrics=['accuracy']\n",
    ")\n",
    "model.fit(x_train,y_train,epochs=20)\n"
   ]
  },
  {
   "cell_type": "code",
   "execution_count": 16,
   "id": "92b446a9-d39e-41cb-a490-866c54d3a4db",
   "metadata": {},
   "outputs": [],
   "source": [
    "# model.save(\"my_model.keras\")"
   ]
  },
  {
   "cell_type": "code",
   "execution_count": 18,
   "id": "0ec2045b-0556-45ff-8908-caefc827ad2b",
   "metadata": {},
   "outputs": [
    {
     "name": "stderr",
     "output_type": "stream",
     "text": [
      "C:\\Users\\siddh\\AppData\\Local\\Programs\\Python\\Python311\\Lib\\site-packages\\keras\\src\\engine\\training.py:3103: UserWarning: You are saving your model as an HDF5 file via `model.save()`. This file format is considered legacy. We recommend using instead the native Keras format, e.g. `model.save('my_model.keras')`.\n",
      "  saving_api.save_model(\n"
     ]
    }
   ],
   "source": [
    "model.save(\"handwritten_model.h5\")"
   ]
  },
  {
   "cell_type": "code",
   "execution_count": 19,
   "id": "4c3c671f-bb05-4580-8478-c9d009c491a7",
   "metadata": {},
   "outputs": [
    {
     "name": "stdout",
     "output_type": "stream",
     "text": [
      "313/313 [==============================] - 1s 3ms/step - loss: 0.1771 - accuracy: 0.9712\n"
     ]
    }
   ],
   "source": [
    "loss,accuracy =model.evaluate(x_test,y_test)"
   ]
  },
  {
   "cell_type": "code",
   "execution_count": 20,
   "id": "228f4211-97db-43e6-b092-305e7d733e4e",
   "metadata": {},
   "outputs": [
    {
     "name": "stdout",
     "output_type": "stream",
     "text": [
      "1/1 [==============================] - 0s 112ms/step\n",
      "[[-57.006134  -46.889717  -38.024265  -11.937234  -71.500046    3.2302022\n",
      "  -70.34417   -10.841864  -41.918888  -18.559496 ]]\n",
      "[[6.9133944e-27 1.7107847e-22 1.2117476e-18 2.5874115e-07 3.5080476e-33\n",
      "  9.9999893e-01 1.1144386e-32 7.7371175e-07 2.4660337e-20 3.4423431e-10]]\n",
      "argmax prediction: 5\n"
     ]
    }
   ],
   "source": [
    "import numpy as np\n",
    "prediction = model.predict(x_train[0].reshape(1,784))\n",
    "print(prediction)\n",
    "prediction_p = tf.nn.softmax(prediction).numpy()\n",
    "print(prediction_p)\n",
    "predicted_digit = np.argmax(prediction_p)\n",
    "print(f\"argmax prediction: {predicted_digit}\")"
   ]
  },
  {
   "cell_type": "code",
   "execution_count": null,
   "id": "ad197b02-ea35-4f06-9dda-0e895aa63298",
   "metadata": {},
   "outputs": [],
   "source": []
  }
 ],
 "metadata": {
  "kernelspec": {
   "display_name": "Python 3 (ipykernel)",
   "language": "python",
   "name": "python3"
  },
  "language_info": {
   "codemirror_mode": {
    "name": "ipython",
    "version": 3
   },
   "file_extension": ".py",
   "mimetype": "text/x-python",
   "name": "python",
   "nbconvert_exporter": "python",
   "pygments_lexer": "ipython3",
   "version": "3.11.1"
  }
 },
 "nbformat": 4,
 "nbformat_minor": 5
}
